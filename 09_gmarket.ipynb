{
 "cells": [
  {
   "cell_type": "markdown",
   "id": "f641da0a-e872-423d-9482-ef35b8596acd",
   "metadata": {},
   "source": [
    "### G Market Best 상품 200개 수집 ###"
   ]
  },
  {
   "cell_type": "code",
   "execution_count": 5,
   "id": "4ea1e8f2-aca0-48fa-bc6d-40cb110d463f",
   "metadata": {},
   "outputs": [],
   "source": [
    "import pandas as pd\n",
    "import requests\n",
    "from bs4 import BeautifulSoup"
   ]
  },
  {
   "cell_type": "code",
   "execution_count": 6,
   "id": "6dc85235-629e-4da5-9aca-5343ede33475",
   "metadata": {},
   "outputs": [],
   "source": [
    "# 1. URL\n",
    "url = 'http://corners.gmarket.co.kr/Bestsellers'"
   ]
  },
  {
   "cell_type": "code",
   "execution_count": 7,
   "id": "be653b0d-d0ce-4556-9285-147d26a3b240",
   "metadata": {},
   "outputs": [],
   "source": [
    "# 2. request(URL) --> response(HTML)\n",
    "response = requests.get(url)"
   ]
  },
  {
   "cell_type": "code",
   "execution_count": 18,
   "id": "f5f314f6-da83-4a69-b4f7-ccab639190e9",
   "metadata": {},
   "outputs": [],
   "source": [
    "# 3. HTML(str) --> BeautifulSoup4 --> CSS Selector --> Data\n",
    "doc = BeautifulSoup(response.text, \"html.parser\")\n",
    "elements = doc.select('#gBestWrap > div > div:nth-child(5) > div > ul > li')\n",
    "\n",
    "element = elements[0]"
   ]
  },
  {
   "cell_type": "code",
   "execution_count": 25,
   "id": "06bc7a5c-5a70-4f03-a5a3-10f241a34795",
   "metadata": {},
   "outputs": [
    {
     "data": {
      "text/plain": [
       "{'title': '[한상궁김치]한상궁김치 국산 겉절이 2kg 출고당일생산',\n",
       " 'o_price': '23,400원',\n",
       " 's_price': '11,000원',\n",
       " 'img': '//gdimg.gmarket.co.kr/1798110680/still/300?ver=2022080416'}"
      ]
     },
     "execution_count": 25,
     "metadata": {},
     "output_type": "execute_result"
    }
   ],
   "source": [
    "# 4. Data --> DataFrame\n",
    "data = {\"title\" : element.select_one(\".itemname\").text, \"o_price\" : element.select_one(\".o-price\").text, \"s_price\" : element.select_one('.s-price > strong').text, \"img\" : element.select_one('img').get(\"data-original\")}\n",
    "data"
   ]
  },
  {
   "cell_type": "code",
   "execution_count": 32,
   "id": "d4454879-1b43-4c7e-9e7d-59d673bbc246",
   "metadata": {},
   "outputs": [
    {
     "name": "stdout",
     "output_type": "stream",
     "text": [
      "200\n",
      "[{'title': '[한상궁김치]한상궁김치 국산 겉절이 2kg 출고당일생산', 'o_price': '23,400원', 's_price': '11,000원', 'img': '//gdimg.gmarket.co.kr/1798110680/still/300?ver=2022080416'}, {'title': '[광동]아이스웨일 레몬라임 탄산수 500ml 40pet/음료/음료수', 'o_price': '17,300원', 's_price': '13,900원', 'img': '//gdimg.gmarket.co.kr/2355814801/still/300?ver=2022080416'}, {'title': '[바디스토리]남성 누디5매 냉감 쿨 드로즈 남자 아이스 사각 팬티 / 무료반품+10%+15%할인', 'o_price': '39,600원', 's_price': '11,900원', 'img': '//gdimg.gmarket.co.kr/2520900839/still/300?ver=2022080416'}]\n"
     ]
    }
   ],
   "source": [
    "items = []\n",
    "for element in elements:\n",
    "    data = {\"title\" : element.select_one(\".itemname\").text, \"o_price\" : element.select_one(\".o-price\").text, \"s_price\" : element.select_one('.s-price > strong').text, \"img\" : element.select_one('img').get(\"data-original\")}\n",
    "    items.append(data)\n",
    "print(len(items))\n",
    "print(items[:3])"
   ]
  },
  {
   "cell_type": "code",
   "execution_count": 33,
   "id": "5529ad0d-4d93-485b-a5cd-1f690afbaa2a",
   "metadata": {},
   "outputs": [
    {
     "data": {
      "text/html": [
       "<div>\n",
       "<style scoped>\n",
       "    .dataframe tbody tr th:only-of-type {\n",
       "        vertical-align: middle;\n",
       "    }\n",
       "\n",
       "    .dataframe tbody tr th {\n",
       "        vertical-align: top;\n",
       "    }\n",
       "\n",
       "    .dataframe thead th {\n",
       "        text-align: right;\n",
       "    }\n",
       "</style>\n",
       "<table border=\"1\" class=\"dataframe\">\n",
       "  <thead>\n",
       "    <tr style=\"text-align: right;\">\n",
       "      <th></th>\n",
       "      <th>title</th>\n",
       "      <th>o_price</th>\n",
       "      <th>s_price</th>\n",
       "      <th>img</th>\n",
       "    </tr>\n",
       "  </thead>\n",
       "  <tbody>\n",
       "    <tr>\n",
       "      <th>0</th>\n",
       "      <td>[한상궁김치]한상궁김치 국산 겉절이 2kg 출고당일생산</td>\n",
       "      <td>23,400원</td>\n",
       "      <td>11,000원</td>\n",
       "      <td>//gdimg.gmarket.co.kr/1798110680/still/300?ver...</td>\n",
       "    </tr>\n",
       "    <tr>\n",
       "      <th>1</th>\n",
       "      <td>[광동]아이스웨일 레몬라임 탄산수 500ml 40pet/음료/음료수</td>\n",
       "      <td>17,300원</td>\n",
       "      <td>13,900원</td>\n",
       "      <td>//gdimg.gmarket.co.kr/2355814801/still/300?ver...</td>\n",
       "    </tr>\n",
       "    <tr>\n",
       "      <th>2</th>\n",
       "      <td>[바디스토리]남성 누디5매 냉감 쿨 드로즈 남자 아이스 사각 팬티 / 무료반품+10...</td>\n",
       "      <td>39,600원</td>\n",
       "      <td>11,900원</td>\n",
       "      <td>//gdimg.gmarket.co.kr/2520900839/still/300?ver...</td>\n",
       "    </tr>\n",
       "  </tbody>\n",
       "</table>\n",
       "</div>"
      ],
      "text/plain": [
       "                                               title  o_price  s_price  \\\n",
       "0                     [한상궁김치]한상궁김치 국산 겉절이 2kg 출고당일생산  23,400원  11,000원   \n",
       "1              [광동]아이스웨일 레몬라임 탄산수 500ml 40pet/음료/음료수  17,300원  13,900원   \n",
       "2  [바디스토리]남성 누디5매 냉감 쿨 드로즈 남자 아이스 사각 팬티 / 무료반품+10...  39,600원  11,900원   \n",
       "\n",
       "                                                 img  \n",
       "0  //gdimg.gmarket.co.kr/1798110680/still/300?ver...  \n",
       "1  //gdimg.gmarket.co.kr/2355814801/still/300?ver...  \n",
       "2  //gdimg.gmarket.co.kr/2520900839/still/300?ver...  "
      ]
     },
     "execution_count": 33,
     "metadata": {},
     "output_type": "execute_result"
    }
   ],
   "source": [
    "df = pd.DataFrame(items)\n",
    "df.head(3)"
   ]
  },
  {
   "cell_type": "code",
   "execution_count": null,
   "id": "c5f22ae6-2d41-4e08-ad55-cbe7ed6a1999",
   "metadata": {},
   "outputs": [],
   "source": []
  }
 ],
 "metadata": {
  "kernelspec": {
   "display_name": "Python 3",
   "language": "python",
   "name": "python3"
  },
  "language_info": {
   "codemirror_mode": {
    "name": "ipython",
    "version": 3
   },
   "file_extension": ".py",
   "mimetype": "text/x-python",
   "name": "python",
   "nbconvert_exporter": "python",
   "pygments_lexer": "ipython3",
   "version": "3.8.8"
  }
 },
 "nbformat": 4,
 "nbformat_minor": 5
}
