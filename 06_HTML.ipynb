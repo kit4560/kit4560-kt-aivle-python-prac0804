{
 "cells": [
  {
   "cell_type": "markdown",
   "id": "5ca9a942-ed99-4c56-b1ab-2758db7b3c1e",
   "metadata": {},
   "source": [
    "### HTML ###\n",
    "### 웹문서를 작성하는 언어 ###"
   ]
  },
  {
   "cell_type": "raw",
   "id": "ac30e60a-c623-473c-9d24-3958faf6eac2",
   "metadata": {},
   "source": [
    "HTML : 웹문서를 작성하는 언어.\n",
    "\t-Document : 한페이지를 나타내는 코드\n",
    "\t-Element : 하나의 레이아웃\n",
    "\t-Tag : Element의 종류를 정의. 시작태그 - 끝태그 모여서 Element 구성\n",
    "즉 HTML > Document > Element > Tag로 구성.\n",
    "\t-Attribute : 속성값으로써 시작태그에서 태그의 기능정의.\n",
    "\t\t-id : Element를 지정하는 페이지내에서 유일한값.\n",
    "\t\t-class : Element를 지정하는 값으로 페이지내에서 여러개 사용 가능.\n",
    "\t\t-attr : id, class를 제외한 나머지 속성값\n",
    "\t-Text : 시작태그와 끝태그 사이의 문자열.\n",
    "\t엘리먼트는 계층적구조를 지님."
   ]
  },
  {
   "cell_type": "code",
   "execution_count": 2,
   "id": "d56235d1-4043-4816-82b7-31c7ae36e2cb",
   "metadata": {},
   "outputs": [
    {
     "data": {
      "text/html": [
       "<div class=\"wrapper\">\n",
       "    <button id = \"b1\" class = \"btn no1\" value=\"1\">HTML 1</button>\n",
       "    <button id = \"b2\" class = \"btn no2\" value=\"2\">HTML 2</button>\n",
       "</div>\n"
      ],
      "text/plain": [
       "<IPython.core.display.HTML object>"
      ]
     },
     "metadata": {},
     "output_type": "display_data"
    }
   ],
   "source": [
    "%%html\n",
    "<div class=\"wrapper\">  # 엘리먼트\n",
    "    <button id = \"b1\" class = \"btn no1\" value=\"1\">HTML 1</button>  # 엘리먼트, # 시작태그 <button id = \"b1\" class = \"btn no1\" value=\"1\">, # 끝태그 </button>\n",
    "    <button id = \"b2\" class = \"btn no2\" value=\"2\">HTML 2</button>  # 엘리먼트\n",
    "</div>"
   ]
  },
  {
   "cell_type": "code",
   "execution_count": 3,
   "id": "dc43d515-b77e-4ca3-881f-11b7ad7ad32d",
   "metadata": {},
   "outputs": [
    {
     "data": {
      "text/html": [
       "<p> python1 </p>\n",
       "<p> python2 </p>\n"
      ],
      "text/plain": [
       "<IPython.core.display.HTML object>"
      ]
     },
     "metadata": {},
     "output_type": "display_data"
    }
   ],
   "source": [
    "%%html\n",
    "<p> python1 </p>\n",
    "<p> python2 </p>"
   ]
  },
  {
   "cell_type": "code",
   "execution_count": 5,
   "id": "9f889e27-ecb5-4249-b936-51b21cc18a81",
   "metadata": {},
   "outputs": [
    {
     "data": {
      "text/html": [
       "<span> python1 </span>\n",
       "<span> python2 </span>\n"
      ],
      "text/plain": [
       "<IPython.core.display.HTML object>"
      ]
     },
     "metadata": {},
     "output_type": "display_data"
    }
   ],
   "source": [
    "%%html\n",
    "<span> python1 </span>\n",
    "<span> python2 </span>"
   ]
  },
  {
   "cell_type": "code",
   "execution_count": null,
   "id": "6d077818-736c-481d-80ab-c3dcc5168118",
   "metadata": {},
   "outputs": [],
   "source": [
    "# ul, li 리스트 문자열 출력"
   ]
  },
  {
   "cell_type": "code",
   "execution_count": 7,
   "id": "9452ab9e-3a51-4374-aecf-c32ed7655bd4",
   "metadata": {},
   "outputs": [
    {
     "data": {
      "text/html": [
       "<ul>\n",
       "    <li> python1 </li>\n",
       "    <li> python2 </li>\n",
       "</ul>\n"
      ],
      "text/plain": [
       "<IPython.core.display.HTML object>"
      ]
     },
     "metadata": {},
     "output_type": "display_data"
    }
   ],
   "source": [
    "%%html\n",
    "<ul>\n",
    "    <li> python1 </li>\n",
    "    <li> python2 </li>\n",
    "</ul>"
   ]
  },
  {
   "cell_type": "code",
   "execution_count": null,
   "id": "720216f8-9b6c-4344-9ce7-34fdaaffe96d",
   "metadata": {},
   "outputs": [],
   "source": [
    "# a 링크를 나타냄"
   ]
  },
  {
   "cell_type": "code",
   "execution_count": 11,
   "id": "58413f9d-43d1-49eb-8b14-584dd4cf2f8b",
   "metadata": {},
   "outputs": [
    {
     "data": {
      "text/html": [
       "<a href=\"https://kt.com\" target=\"_blink\"> Click </a>\n"
      ],
      "text/plain": [
       "<IPython.core.display.HTML object>"
      ]
     },
     "metadata": {},
     "output_type": "display_data"
    }
   ],
   "source": [
    "%%html\n",
    "<a href=\"https://kt.com\" target=\"_blink\"> Click </a>"
   ]
  },
  {
   "cell_type": "code",
   "execution_count": 12,
   "id": "d852fbd2-128d-432c-bfdc-52246a05376a",
   "metadata": {},
   "outputs": [],
   "source": [
    "# img 이미지 출력"
   ]
  },
  {
   "cell_type": "code",
   "execution_count": 13,
   "id": "e14e9186-08cb-45ad-a8d1-444c1972a7eb",
   "metadata": {},
   "outputs": [
    {
     "data": {
      "text/html": [
       "<img src=\"https://cfm.kt.com/images/v2/layout/gnb-ktlogo.png\" </img>\n"
      ],
      "text/plain": [
       "<IPython.core.display.HTML object>"
      ]
     },
     "metadata": {},
     "output_type": "display_data"
    }
   ],
   "source": [
    "%%html\n",
    "<img src=\"https://cfm.kt.com/images/v2/layout/gnb-ktlogo.png\" </img>"
   ]
  },
  {
   "cell_type": "code",
   "execution_count": null,
   "id": "8fcf8e98-923c-4f44-86b3-9e7098f59ce5",
   "metadata": {},
   "outputs": [],
   "source": [
    "# iframe 외부 url링크에 해당하는 웹페이지를 출력"
   ]
  },
  {
   "cell_type": "code",
   "execution_count": 14,
   "id": "f2e5f829-2bad-4b1e-8453-58b1fac53602",
   "metadata": {},
   "outputs": [
    {
     "data": {
      "text/html": [
       "<iframe src=\"https://kt.com\" width=\"100%\" height=\"400px\" </iframe>\n"
      ],
      "text/plain": [
       "<IPython.core.display.HTML object>"
      ]
     },
     "metadata": {},
     "output_type": "display_data"
    }
   ],
   "source": [
    "%%html\n",
    "<iframe src=\"https://kt.com\" width=\"100%\" height=\"400px\" </iframe>"
   ]
  },
  {
   "cell_type": "code",
   "execution_count": 15,
   "id": "9f58f76c-6a5d-46d5-b4f0-032925827d11",
   "metadata": {},
   "outputs": [],
   "source": [
    "# div 레이아웃 영역 표기"
   ]
  },
  {
   "cell_type": "code",
   "execution_count": 16,
   "id": "22e7fe56-cb38-445f-8d66-d3c2b45d6e0c",
   "metadata": {},
   "outputs": [
    {
     "data": {
      "text/html": [
       "<div>\n",
       "    <p> python 1 </p>\n",
       "    <p> python 2 </p>\n",
       "</div>\n",
       "<div>\n",
       "    <p> python 3 </p>\n",
       "</div>\n"
      ],
      "text/plain": [
       "<IPython.core.display.HTML object>"
      ]
     },
     "metadata": {},
     "output_type": "display_data"
    }
   ],
   "source": [
    "%%html\n",
    "<div>\n",
    "    <p> python 1 </p>\n",
    "    <p> python 2 </p>\n",
    "</div>\n",
    "<div>\n",
    "    <p> python 3 </p>\n",
    "</div>"
   ]
  },
  {
   "cell_type": "code",
   "execution_count": 17,
   "id": "bfa53c36-be56-4026-8242-e7754dd580a5",
   "metadata": {},
   "outputs": [],
   "source": [
    "# table 행과 열로 된 테이블 출력할떄"
   ]
  },
  {
   "cell_type": "code",
   "execution_count": 20,
   "id": "4b5f29cd-ce28-4148-8a8a-6e8253e13d06",
   "metadata": {},
   "outputs": [
    {
     "data": {
      "text/html": [
       "<table>\n",
       "    <caption> 제목 </caption>\n",
       "    <thead>\n",
       "        <tr>\n",
       "            <td> column 1 </th>\n",
       "            <td> column 2 </th>\n",
       "        </tr>\n",
       "    </thead>\n",
       "    <tbody>\n",
       "        <tr>\n",
       "            <td> data 1 </th>\n",
       "            <td> data 2 </th>\n",
       "        </tr>\n",
       "        <tr>\n",
       "            <td> data 3 </th>\n",
       "            <td> data 4 </th>\n",
       "        </tr>\n",
       "    </tbody>\n",
       "</table>\n"
      ],
      "text/plain": [
       "<IPython.core.display.HTML object>"
      ]
     },
     "metadata": {},
     "output_type": "display_data"
    }
   ],
   "source": [
    "%%html\n",
    "<table>\n",
    "    <caption> 제목 </caption>\n",
    "    <thead>\n",
    "        <tr>\n",
    "            <td> column 1 </th>\n",
    "            <td> column 2 </th>\n",
    "        </tr>\n",
    "    </thead>\n",
    "    <tbody>\n",
    "        <tr>\n",
    "            <td> data 1 </th>\n",
    "            <td> data 2 </th>\n",
    "        </tr>\n",
    "        <tr>\n",
    "            <td> data 3 </th>\n",
    "            <td> data 4 </th>\n",
    "        </tr>\n",
    "    </tbody>\n",
    "</table>"
   ]
  },
  {
   "cell_type": "code",
   "execution_count": 29,
   "id": "0bae75b1-a39e-472d-b9d6-e9bd332a6427",
   "metadata": {},
   "outputs": [
    {
     "name": "stdout",
     "output_type": "stream",
     "text": [
      "0.30000000000000004\n",
      "해결법1 = 0.3\n",
      "해결법2 = 0.3\n"
     ]
    }
   ],
   "source": [
    "## 부동소수점 에러\n",
    "data1, data2 = 0.1, 0.2\n",
    "print(data1 + data2)\n",
    "\n",
    "print(\"해결법1 = \" +str(round(data1+data2,1)))\n",
    "\n",
    "from decimal import Decimal\n",
    "print(\"해결법2 = \" +str(Decimal(str(data1)) + Decimal(str(data2))))"
   ]
  },
  {
   "cell_type": "code",
   "execution_count": null,
   "id": "f76cd9d5-ea89-459f-b605-4ba037f89336",
   "metadata": {},
   "outputs": [],
   "source": []
  }
 ],
 "metadata": {
  "kernelspec": {
   "display_name": "Python 3",
   "language": "python",
   "name": "python3"
  },
  "language_info": {
   "codemirror_mode": {
    "name": "ipython",
    "version": 3
   },
   "file_extension": ".py",
   "mimetype": "text/x-python",
   "name": "python",
   "nbconvert_exporter": "python",
   "pygments_lexer": "ipython3",
   "version": "3.8.8"
  }
 },
 "nbformat": 4,
 "nbformat_minor": 5
}
