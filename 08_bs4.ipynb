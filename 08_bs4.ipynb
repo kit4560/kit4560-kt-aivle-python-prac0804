{
 "cells": [
  {
   "cell_type": "markdown",
   "id": "d55c2377-ac6e-43e3-afbe-58aed3308be2",
   "metadata": {},
   "source": [
    "### 정적 페이지 데이터 수집 ###\n",
    "- bs4 : HTML --> CSS Selector"
   ]
  },
  {
   "cell_type": "code",
   "execution_count": 4,
   "id": "a43d3fa6-ca39-4884-b6bc-9ce4cb867970",
   "metadata": {},
   "outputs": [],
   "source": [
    "import pandas as pd\n",
    "import requests\n",
    "from bs4 import BeautifulSoup"
   ]
  },
  {
   "cell_type": "code",
   "execution_count": 6,
   "id": "f10c0840-90b8-46e5-953e-9afa087e66fa",
   "metadata": {},
   "outputs": [],
   "source": [
    "# 1. URL분석\n",
    "key_word = 'kt'\n",
    "url = f'https://search.naver.com/search.naver?query={key_word}'"
   ]
  },
  {
   "cell_type": "code",
   "execution_count": 8,
   "id": "f599d7ab-9b5f-433b-aa22-1303ac373ba3",
   "metadata": {},
   "outputs": [
    {
     "data": {
      "text/plain": [
       "'<!doctype html> <html lang=\"ko\"> <head> <meta charset=\"utf-8\"> <meta name=\"referrer\" content=\"always\">  <meta name=\"format-detection\" content=\"telephone=no,address=no,email=no\"> <meta name=\"viewport\" content=\"width=device-width,initial-scale=1.0,maximum-scale=2.0\"> <meta property=\"og:title\" content=\"kt : 네이버 통합검색\"/> <meta property=\"og:image\" content=\"https://ssl.pstatic.net/sstatic/search/common/og_v3.png\"> <meta property=\"og:description\" content=\"\\'kt\\'의 네이버 통합검색 결과입니다.\"> <meta name=\"description\"'"
      ]
     },
     "execution_count": 8,
     "metadata": {},
     "output_type": "execute_result"
    }
   ],
   "source": [
    "# 2. request(URL) --> response(HTML)\n",
    "response = requests.get(url)\n",
    "response.text[:500]"
   ]
  },
  {
   "cell_type": "code",
   "execution_count": 10,
   "id": "6904673a-0227-4d4f-9eee-be27330f7d4a",
   "metadata": {},
   "outputs": [
    {
     "name": "stdout",
     "output_type": "stream",
     "text": [
      "<class 'bs4.BeautifulSoup'>\n"
     ]
    }
   ],
   "source": [
    "# 3. HTML(str) --> BeautifulSoup4 --> CSS Selector --> Data\n",
    "doc = BeautifulSoup(response.text, \"html.parser\")\n",
    "print(type(doc))"
   ]
  },
  {
   "cell_type": "code",
   "execution_count": 11,
   "id": "e361f15f-e024-49d5-a3be-aae053c20316",
   "metadata": {},
   "outputs": [
    {
     "name": "stdout",
     "output_type": "stream",
     "text": [
      "[<li class=\"item\"> <a class=\"keyword\" href=\"?where=nexearch&amp;query=%EC%82%BC%EC%84%B1%EC%A0%84%EC%9E%90&amp;ie=utf8&amp;sm=tab_she&amp;qdt=0\" onclick=\"return goOtherCR(this, 'a=rsk_btm*q.list1&amp;r=1&amp;u=' + urlencode(this.href))\"> <div class=\"tit\">삼성전자</div> </a> </li>, <li class=\"item\"> <a class=\"keyword\" href=\"?where=nexearch&amp;query=kt+%EA%B3%A0%EA%B0%9D%EC%84%BC%ED%84%B0&amp;ie=utf8&amp;sm=tab_she&amp;qdt=0\" onclick=\"return goOtherCR(this, 'a=rsk_btm*q.list1&amp;r=2&amp;u=' + urlencode(this.href))\"> <div class=\"tit\">kt 고객센터</div> </a> </li>, <li class=\"item\"> <a class=\"keyword\" href=\"?where=nexearch&amp;query=kt+%EC%9D%B8%ED%84%B0%EB%84%B7&amp;ie=utf8&amp;sm=tab_she&amp;qdt=0\" onclick=\"return goOtherCR(this, 'a=rsk_btm*q.list1&amp;r=3&amp;u=' + urlencode(this.href))\"> <div class=\"tit\">kt 인터넷</div> </a> </li>, <li class=\"item\"> <a class=\"keyword\" href=\"?where=nexearch&amp;query=ky&amp;ie=utf8&amp;sm=tab_she&amp;qdt=0\" onclick=\"return goOtherCR(this, 'a=rsk_btm*q.list1&amp;r=4&amp;u=' + urlencode(this.href))\"> <div class=\"tit\">ky</div> </a> </li>, <li class=\"item\"> <a class=\"keyword\" href=\"?where=nexearch&amp;query=%ED%99%98%EC%9C%A8&amp;ie=utf8&amp;sm=tab_she&amp;qdt=0\" onclick=\"return goOtherCR(this, 'a=rsk_btm*q.list1&amp;r=5&amp;u=' + urlencode(this.href))\"> <div class=\"tit\">환율</div> </a> </li>, <li class=\"item\"> <a class=\"keyword\" href=\"?where=nexearch&amp;query=kr&amp;ie=utf8&amp;sm=tab_she&amp;qdt=0\" onclick=\"return goOtherCR(this, 'a=rsk_btm*q.list1&amp;r=6&amp;u=' + urlencode(this.href))\"> <div class=\"tit\">kr</div> </a> </li>, <li class=\"item\"> <a class=\"keyword\" href=\"?where=nexearch&amp;query=%EB%82%A0%EC%94%A8&amp;ie=utf8&amp;sm=tab_she&amp;qdt=0\" onclick=\"return goOtherCR(this, 'a=rsk_btm*q.list1&amp;r=7&amp;u=' + urlencode(this.href))\"> <div class=\"tit\">날씨</div> </a> </li>, <li class=\"item\"> <a class=\"keyword\" href=\"?where=nexearch&amp;query=kt+%EB%8C%80%EB%A6%AC%EC%A0%90&amp;ie=utf8&amp;sm=tab_she&amp;qdt=0\" onclick=\"return goOtherCR(this, 'a=rsk_btm*q.list1&amp;r=8&amp;u=' + urlencode(this.href))\"> <div class=\"tit\">kt 대리점</div> </a> </li>, <li class=\"item\"> <a class=\"keyword\" href=\"?where=nexearch&amp;query=SKT&amp;ie=utf8&amp;sm=tab_she&amp;qdt=0\" onclick=\"return goOtherCR(this, 'a=rsk_btm*q.list1&amp;r=9&amp;u=' + urlencode(this.href))\"> <div class=\"tit\">SKT</div> </a> </li>, <li class=\"item\"> <a class=\"keyword\" href=\"?where=nexearch&amp;query=kt+%EA%B3%A0%EA%B0%9D%EC%84%BC%ED%84%B0+%EC%A0%84%ED%99%94%EB%B2%88%ED%98%B8&amp;ie=utf8&amp;sm=tab_she&amp;qdt=0\" onclick=\"return goOtherCR(this, 'a=rsk_btm*q.list1&amp;r=10&amp;u=' + urlencode(this.href))\"> <div class=\"tit\">kt 고객센터 전화번호</div> </a> </li>]\n"
     ]
    }
   ],
   "source": [
    "# select() 엘리먼트 여러개 선택\n",
    "# select_one() 엘리먼트 한개 선택\n",
    "\n",
    "elements = doc.select('.lst_related_srch > .item')\n",
    "print(elements)"
   ]
  },
  {
   "cell_type": "code",
   "execution_count": 12,
   "id": "212e2f37-cb76-40fe-a5bb-83cc9e447a3d",
   "metadata": {},
   "outputs": [
    {
     "name": "stdout",
     "output_type": "stream",
     "text": [
      "['삼성전자', 'kt 고객센터', 'kt 인터넷', 'ky', '환율', 'kr', '날씨', 'kt 대리점', 'SKT', 'kt 고객센터 전화번호']\n"
     ]
    }
   ],
   "source": [
    "keywords = []\n",
    "for element in elements:\n",
    "    keyword = element.select_one(\".tit\").text\n",
    "    keywords.append(keyword)\n",
    "print(keywords)"
   ]
  },
  {
   "cell_type": "code",
   "execution_count": 15,
   "id": "62d959e4-1bdb-4282-b9e9-4d47b5f51a01",
   "metadata": {},
   "outputs": [
    {
     "name": "stdout",
     "output_type": "stream",
     "text": [
      "['삼성전자', 'kt 고객센터', 'kt 인터넷', 'ky', '환율', 'kr', '날씨', 'kt 대리점', 'SKT', 'kt 고객센터 전화번호']\n"
     ]
    }
   ],
   "source": [
    "keywords = [element.select_one(\".tit\").text for element in elements]\n",
    "print(keywords)"
   ]
  },
  {
   "cell_type": "code",
   "execution_count": null,
   "id": "3af71b7f-7c1a-4d6b-8904-d58ba93cbe73",
   "metadata": {},
   "outputs": [],
   "source": [
    "# 4. Data --> DataFrame"
   ]
  }
 ],
 "metadata": {
  "kernelspec": {
   "display_name": "Python 3",
   "language": "python",
   "name": "python3"
  },
  "language_info": {
   "codemirror_mode": {
    "name": "ipython",
    "version": 3
   },
   "file_extension": ".py",
   "mimetype": "text/x-python",
   "name": "python",
   "nbconvert_exporter": "python",
   "pygments_lexer": "ipython3",
   "version": "3.8.8"
  }
 },
 "nbformat": 4,
 "nbformat_minor": 5
}
