{
 "cells": [
  {
   "cell_type": "markdown",
   "id": "37e85e56-30a1-4910-9eec-940e210c91ff",
   "metadata": {},
   "source": [
    "### CSS Selector ###"
   ]
  },
  {
   "cell_type": "code",
   "execution_count": 1,
   "id": "d30f687a-cd81-4c1c-ba95-088689836d58",
   "metadata": {},
   "outputs": [],
   "source": [
    "# 1. Element Tag 이름 선택\n",
    "# #kt > kt{color:red}"
   ]
  },
  {
   "cell_type": "code",
   "execution_count": 4,
   "id": "df16c961-d4b5-49c8-b145-f7173c7f20fc",
   "metadata": {},
   "outputs": [
    {
     "data": {
      "text/html": [
       "<div id=\"kt\">\n",
       "    <div> python 1 </div>\n",
       "    <p> python 2 </p>\n",
       "    <span> python 3 </span>\n",
       "</div>\n"
      ],
      "text/plain": [
       "<IPython.core.display.HTML object>"
      ]
     },
     "metadata": {},
     "output_type": "display_data"
    }
   ],
   "source": [
    "%%html\n",
    "<div id=\"kt\">\n",
    "    <div> python 1 </div>\n",
    "    <p> python 2 </p>\n",
    "    <span> python 3 </span>\n",
    "</div>"
   ]
  },
  {
   "cell_type": "code",
   "execution_count": 5,
   "id": "7e878ed5-34b7-436e-b00e-8921785c7ad3",
   "metadata": {},
   "outputs": [],
   "source": [
    "# 2. Tag ID로 선택\n",
    "# #kt2{color:blue}"
   ]
  },
  {
   "cell_type": "code",
   "execution_count": 6,
   "id": "45f96fb2-ed84-47ab-bdae-8055da01866a",
   "metadata": {},
   "outputs": [
    {
     "data": {
      "text/html": [
       "<div class=\"kt\">\n",
       "    <p id='kt1'> python 1 </p>\n",
       "    <p id='kt2'> python 2 </p>\n",
       "    <p id='kt3'> python 3 </p>\n",
       "</div>\n"
      ],
      "text/plain": [
       "<IPython.core.display.HTML object>"
      ]
     },
     "metadata": {},
     "output_type": "display_data"
    }
   ],
   "source": [
    "%%html\n",
    "<div class=\"kt\">\n",
    "    <p id='kt1'> python 1 </p>\n",
    "    <p id='kt2'> python 2 </p>\n",
    "    <p id='kt3'> python 3 </p>\n",
    "</div>"
   ]
  },
  {
   "cell_type": "code",
   "execution_count": 7,
   "id": "5a706c04-6dd3-4623-91d3-48b0c77f0ce1",
   "metadata": {},
   "outputs": [],
   "source": [
    "# 3. Tag class로 선택\n",
    "# .kt2{color:green}\n",
    "# .kt{color:black}\n",
    "# 클래스는 띄어쓰기 기준으로 분할이라 각 p들은 kt를 가지고 있음"
   ]
  },
  {
   "cell_type": "code",
   "execution_count": 8,
   "id": "4acd6418-0070-4db6-8125-5d1b1f1702bf",
   "metadata": {},
   "outputs": [
    {
     "data": {
      "text/html": [
       "<p class='kt kt1'> python 1 </p>\n",
       "<p class='kt kt2'> python 2 </p>\n",
       "<p class='kt kt3'> python 3 </p>\n"
      ],
      "text/plain": [
       "<IPython.core.display.HTML object>"
      ]
     },
     "metadata": {},
     "output_type": "display_data"
    }
   ],
   "source": [
    "%%html\n",
    "<p class='kt kt1'> python 1 </p>\n",
    "<p class='kt kt2'> python 2 </p>\n",
    "<p class='kt kt3'> python 3 </p>"
   ]
  },
  {
   "cell_type": "code",
   "execution_count": 9,
   "id": "dda883bf-337e-4b12-ae84-5ccf2dcc363b",
   "metadata": {},
   "outputs": [],
   "source": [
    "# 4. Tag attr로 선택\n",
    "# [value='no1']{font-size:20px}"
   ]
  },
  {
   "cell_type": "code",
   "execution_count": 10,
   "id": "11f6d2b5-9adc-46e5-829e-04ce7a0f909b",
   "metadata": {},
   "outputs": [
    {
     "data": {
      "text/html": [
       "<p value='no1'> python 1 </p>\n",
       "<p value='no2'> python 2 </p>\n",
       "<p value='no3'> python 3 </p>\n"
      ],
      "text/plain": [
       "<IPython.core.display.HTML object>"
      ]
     },
     "metadata": {},
     "output_type": "display_data"
    }
   ],
   "source": [
    "%%html\n",
    "<p value='no1'> python 1 </p>\n",
    "<p value='no2'> python 2 </p>\n",
    "<p value='no3'> python 3 </p>"
   ]
  },
  {
   "cell_type": "code",
   "execution_count": 11,
   "id": "c95aead1-91c0-4537-9460-5b505a25088e",
   "metadata": {},
   "outputs": [],
   "source": [
    "# 5. 여러개의 셀렉터 선택\n",
    "# .no:not(.no2)\n",
    "# no2를 제외한 no애들 선택"
   ]
  },
  {
   "cell_type": "code",
   "execution_count": 14,
   "id": "acd17144-7954-46fd-b400-f2153ec7c77b",
   "metadata": {},
   "outputs": [
    {
     "data": {
      "text/html": [
       "<p class='no no1'> python 1 </p>\n",
       "<p class='no no2'> python 2 </p>\n",
       "<p class='no no3'> python 3 </p>\n"
      ],
      "text/plain": [
       "<IPython.core.display.HTML object>"
      ]
     },
     "metadata": {},
     "output_type": "display_data"
    }
   ],
   "source": [
    "%%html\n",
    "<p class='no no1'> python 1 </p>\n",
    "<p class='no no2'> python 2 </p>\n",
    "<p class='no no3'> python 3 </p>"
   ]
  },
  {
   "cell_type": "code",
   "execution_count": null,
   "id": "360a02c9-8991-4bd7-b9d4-3f63fefe594a",
   "metadata": {},
   "outputs": [],
   "source": [
    "# 그냥 편하거는 할때마다 인터넷 검색하자"
   ]
  },
  {
   "cell_type": "code",
   "execution_count": 15,
   "id": "044f9b38-3413-4ea1-a19a-6cabba249915",
   "metadata": {},
   "outputs": [],
   "source": [
    "# 6. 계층적 엘리먼트 선택\n",
    "# .wrap > p   inner1선택 wrap내부에 p를 지정\n",
    "# .wrap p     inner1, inner2선택 모든 하위 엘리먼트 지정"
   ]
  },
  {
   "cell_type": "code",
   "execution_count": 16,
   "id": "4a48e50e-6214-4360-ac9b-497f350e5fb3",
   "metadata": {},
   "outputs": [
    {
     "data": {
      "text/html": [
       "<div class=\"wrap\">\n",
       "    <p> inner1 </p>\n",
       "    <div>\n",
       "        <p>inner2 </p>\n",
       "    </div>\n",
       "</div>\n"
      ],
      "text/plain": [
       "<IPython.core.display.HTML object>"
      ]
     },
     "metadata": {},
     "output_type": "display_data"
    }
   ],
   "source": [
    "%%html\n",
    "<div class=\"wrap\">\n",
    "    <p> inner1 </p>\n",
    "    <div>\n",
    "        <p>inner2 </p>\n",
    "    </div>\n",
    "</div>"
   ]
  },
  {
   "cell_type": "code",
   "execution_count": null,
   "id": "1364de49-577d-41f9-b4ee-15481574a367",
   "metadata": {},
   "outputs": [],
   "source": []
  }
 ],
 "metadata": {
  "kernelspec": {
   "display_name": "Python 3",
   "language": "python",
   "name": "python3"
  },
  "language_info": {
   "codemirror_mode": {
    "name": "ipython",
    "version": 3
   },
   "file_extension": ".py",
   "mimetype": "text/x-python",
   "name": "python",
   "nbconvert_exporter": "python",
   "pygments_lexer": "ipython3",
   "version": "3.8.8"
  }
 },
 "nbformat": 4,
 "nbformat_minor": 5
}
