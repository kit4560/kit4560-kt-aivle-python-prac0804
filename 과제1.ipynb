{
 "cells": [
  {
   "cell_type": "code",
   "execution_count": null,
   "id": "e671a24a-e235-4b56-a425-e3ccf62ccd14",
   "metadata": {},
   "outputs": [],
   "source": [
    "# 과제1 카카오 API를 이용하여 주소를 입력시 위도 경도 반환하도록\n",
    "# https://developers.kakao.com/\n",
    "# rest API키 사용\n",
    "# 문서 --> 로컬 --> 개발가이드"
   ]
  },
  {
   "cell_type": "code",
   "execution_count": 47,
   "id": "f7ab9250-58d6-4f1b-914a-87dab1acb63a",
   "metadata": {},
   "outputs": [
    {
     "name": "stdout",
     "output_type": "stream",
     "text": [
      "경기도 안성시 죽산면 죽산초교길 69-4\n"
     ]
    }
   ],
   "source": [
    "import pandas as pd\n",
    "import requests as rs\n",
    "import json\n",
    "\n",
    "def on_kakao_local(x, y, token_s):\n",
    "    header = {\"Authorization\" : 'KakaoAK ' + token_s}\n",
    "    response = rs.get(f\"https://dapi.kakao.com/v2/local/geo/coord2address.json?input_coord=WGS84&x={x}&y={y}\", headers = header)\n",
    "    data = response.json()\n",
    "    \n",
    "    return data['documents'][0]['road_address']['address_name']\n",
    "\n",
    "print(on_kakao_local(127.423084873712, 37.0789561558879, token))"
   ]
  },
  {
   "cell_type": "code",
   "execution_count": null,
   "id": "d0aaa4db-bb79-4d2e-940a-d1c98ace5574",
   "metadata": {},
   "outputs": [],
   "source": []
  }
 ],
 "metadata": {
  "kernelspec": {
   "display_name": "Python 3",
   "language": "python",
   "name": "python3"
  },
  "language_info": {
   "codemirror_mode": {
    "name": "ipython",
    "version": 3
   },
   "file_extension": ".py",
   "mimetype": "text/x-python",
   "name": "python",
   "nbconvert_exporter": "python",
   "pygments_lexer": "ipython3",
   "version": "3.8.8"
  }
 },
 "nbformat": 4,
 "nbformat_minor": 5
}
